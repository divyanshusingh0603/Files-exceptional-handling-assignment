{
  "nbformat": 4,
  "nbformat_minor": 0,
  "metadata": {
    "colab": {
      "provenance": []
    },
    "kernelspec": {
      "name": "python3",
      "display_name": "Python 3"
    },
    "language_info": {
      "name": "python"
    }
  },
  "cells": [
    {
      "cell_type": "markdown",
      "source": [
        "#Theory Questions"
      ],
      "metadata": {
        "id": "kmykkYYQODJO"
      }
    },
    {
      "cell_type": "markdown",
      "source": [
        "**1.** What is the difference between interpreted and compiled languages?\n",
        "\n",
        "  - Compiled languages translate the entire program into machine code before execution.\n",
        "\n",
        "  -  Interpreted languages execute the code line by line as it's being run."
      ],
      "metadata": {
        "id": "rcKP-_rVOJVz"
      }
    },
    {
      "cell_type": "markdown",
      "source": [
        "**2.**What is exception handling in Python?\n",
        "\n",
        " - Exception handling in Python is a mechanism to manage errors that occur during the execution of a program. It allows the program to continue running instead of crashing when an error occurs.\n",
        "\n",
        " The core of exception handling in Python involves the use of try, except, else, and finally blocks."
      ],
      "metadata": {
        "id": "FJF4tKn_PQXd"
      }
    },
    {
      "cell_type": "markdown",
      "source": [
        "**3.**What is the purpose of the finally block in exception handling?\n",
        "\n",
        " - The purpose of the finally block in exception handling is to ensure that a particular block of code is always executed, regardless of whether an exception is thrown in the try block or not, or even if catch blocks are present. It's commonly used for cleanup tasks like closing files, releasing resources, or ensuring database connections are closed."
      ],
      "metadata": {
        "id": "G4iLVdszPlDj"
      }
    },
    {
      "cell_type": "markdown",
      "source": [
        "**4.**What is logging in Python?\n",
        "\n",
        " - Logging in Python is the process of tracking events that happen when your code runs. It’s especially useful for:\n",
        "\n",
        " i)Debugging (finding and fixing bugs)\n",
        "\n",
        " ii)Monitoring your application in production\n",
        "\n",
        " iii)Auditing what happened and when"
      ],
      "metadata": {
        "id": "riCWPWcyPzxw"
      }
    },
    {
      "cell_type": "markdown",
      "source": [
        "**5.**What is the significance of the `__del__` method in Python?\n",
        "\n",
        " - The `__del__` method in Python is a destructor. It's called automatically when an object is about to be destroyed, typically when there are no more references to it."
      ],
      "metadata": {
        "id": "1XLEIhJCQqz3"
      }
    },
    {
      "cell_type": "markdown",
      "source": [
        "**6.**What is the difference between import and from ... import in Python?\n",
        "\n",
        " - In Python, both import and from ... import ... are used to access code from modules or packages, but they work differently in terms of how they import and what they make available.\n",
        "\n",
        "  **import statement**\n",
        "\n",
        "  i)What it does: Imports the entire module.\n",
        "\n",
        "  ii)Access: You must use the module name as a prefix (math.sqrt).\n",
        "\n",
        "  iii)Good for: Clarity and avoiding name conflicts.\n",
        "\n",
        "  **from ... import statement**\n",
        "\n",
        "  i)What it does: Imports specific attributes or functions from the module.\n",
        "\n",
        "  ii)Access: You can use the imported name directly without the module prefix.\n",
        "\n",
        "  iii)Good for: Convenience and readability in smaller scripts.\n",
        "\n"
      ],
      "metadata": {
        "id": "xUA6J611RRWY"
      }
    },
    {
      "cell_type": "markdown",
      "source": [
        "**7.**How can you handle multiple exceptions in Python?\n",
        "\n",
        " - In Python, multiple exceptions can be handled using several methods within a try-except block. These methods allow for specific error handling or a more general approach."
      ],
      "metadata": {
        "id": "JH078bMoSxj1"
      }
    },
    {
      "cell_type": "markdown",
      "source": [
        "**8.**What is the purpose of the with statement when handling files in Python?\n",
        "\n",
        " -The with statement in Python simplifies file handling by ensuring resources are properly managed. It automatically takes care of opening and closing files, even if errors occur. This eliminates the need for explicit try...finally blocks for resource management.\n",
        "\n",
        " The with statement makes file handling cleaner, more readable, and safer by automatically managing resources."
      ],
      "metadata": {
        "id": "PVCCzXbwThEA"
      }
    },
    {
      "cell_type": "markdown",
      "source": [
        "**9.**What is the difference between multithreading and multiprocessing?\n",
        "\n",
        " - Multithreading involves creating multiple threads within a single process.\n",
        "\n",
        " - Multiprocessing involves creating multiple independent processes, each with its own memory space and resources.\n"
      ],
      "metadata": {
        "id": "OGYIbkjHT5Fn"
      }
    },
    {
      "cell_type": "markdown",
      "source": [
        "**10.**What are the advantages of using logging in a program?\n",
        "\n",
        " - Logging provides significant advantages in program development and maintenance, primarily by enabling efficient debugging, performance monitoring, and security tracking."
      ],
      "metadata": {
        "id": "qCBzTIKAUN-G"
      }
    },
    {
      "cell_type": "markdown",
      "source": [
        "**11.** What is memory management in Python?\n",
        "\n",
        " - Memory management in Python is the process by which Python allocates, tracks, and frees up memory during the execution of a program. It ensures efficient use of memory and helps prevent memory leaks or crashes."
      ],
      "metadata": {
        "id": "nHNGusw0Uxiw"
      }
    },
    {
      "cell_type": "markdown",
      "source": [
        "**12.**What are the basic steps involved in exception handling in Python?\n",
        "\n",
        " - The basic steps involved in exception handling in Python revolve around using the try, except, else, and finally blocks to manage errors gracefully."
      ],
      "metadata": {
        "id": "D_FILIgIVYHY"
      }
    },
    {
      "cell_type": "markdown",
      "source": [
        "**13.**Why is memory management important in Python?\n",
        "\n",
        " - Memory management is important in Python because it ensures that programs run efficiently, reliably, and without crashing due to memory issues."
      ],
      "metadata": {
        "id": "08XDa7ds_KhT"
      }
    },
    {
      "cell_type": "markdown",
      "source": [
        "**14.** What is the role of try and except in exception handling?\n",
        "\n",
        " - The try and except blocks are the core components of exception handling in Python. They allow you to write code that can gracefully recover from runtime errors instead of crashing your program."
      ],
      "metadata": {
        "id": "DWhimYxt_Yrs"
      }
    },
    {
      "cell_type": "markdown",
      "source": [
        "**15.**How does Python's garbage collection system work?\n",
        "\n",
        " - Python’s garbage collection (GC) system is designed to automatically manage memory by freeing memory occupied by objects that are no longer in use, helping to prevent memory leaks and keep your programs efficient.\n",
        "\n"
      ],
      "metadata": {
        "id": "YrK_vHiv_pzi"
      }
    },
    {
      "cell_type": "markdown",
      "source": [
        "**16.**What is the purpose of the else block in exception handling?\n",
        "\n",
        " - The else block in exception handling in Python is used to define code that should run only if no exception occurs in the try block."
      ],
      "metadata": {
        "id": "WGOASXRJ_3VZ"
      }
    },
    {
      "cell_type": "markdown",
      "source": [
        "**17.**What are the common logging levels in Python?\n",
        "\n",
        " - In Python, the logging module provides a flexible framework for emitting log messages from programs. These messages are categorized into logging levels, which indicate the severity or importance of the message.\n",
        "\n",
        " Here are the common logging levels in Python, ordered from least to most severe:\n",
        "\n",
        " DEBUG (10), INFO (20), WARNING (30), ERROR (40), CRITICAL (50), NOTSET (0)"
      ],
      "metadata": {
        "id": "rHO4RaJwAD3L"
      }
    },
    {
      "cell_type": "markdown",
      "source": [
        "**18.**What is the difference between os.fork() and multiprocessing in Python?\n",
        "\n",
        " - os.fork() is a low-level tool for basic process creation\n",
        "\n",
        " It is used for creating simple child processes when direct control of the process is needed.\n",
        "\n",
        " - Multiprocessing offers a more robust and portable solution for parallel processing in Python.\n",
        "\n",
        " The multiprocessing module is ideal for CPU-bound tasks that can be parallelized effectively. It is also used for creating more complex applications that require multiple processes.\n"
      ],
      "metadata": {
        "id": "SYAeqYihBtOB"
      }
    },
    {
      "cell_type": "markdown",
      "source": [
        "**19.**What is the importance of closing a file in Python?\n",
        "\n",
        " - Closing a file in Python is very important for ensuring that your program releases system resources, saves data properly, and avoids file corruption or access issues.\n",
        "\n"
      ],
      "metadata": {
        "id": "-92FENUGEZ-x"
      }
    },
    {
      "cell_type": "markdown",
      "source": [
        "**20.**What is the difference between file.read() and file.readline() in Python?\n",
        "\n",
        " - The file.read() method reads the entire contents of a file at once and returns it as a single string.\n",
        "\n",
        "- file.readline() reads only one line from the file at a time, including the newline character at the end."
      ],
      "metadata": {
        "id": "qz-rBPexErzm"
      }
    },
    {
      "cell_type": "markdown",
      "source": [
        "**21.**What is the logging module in Python used for?\n",
        "\n",
        " - The logging module in Python is used to record messages that describe events happening in a program, which is especially helpful for debugging, monitoring, and troubleshooting."
      ],
      "metadata": {
        "id": "DQjshcdLgzIh"
      }
    },
    {
      "cell_type": "markdown",
      "source": [
        "**22.**What is the os module in Python used for in file handling?\n",
        "\n",
        " - The os module in Python is used for interacting with the operating system, and in the context of file handling, it provides a wide range of functions to manipulate files and directories at the system level."
      ],
      "metadata": {
        "id": "lmAMtjr4hC8g"
      }
    },
    {
      "cell_type": "markdown",
      "source": [
        "**23.**What are the challenges associated with memory management in Python?\n",
        "\n",
        " - Memory management in Python is largely automatic, thanks to its built-in garbage collector, but several challenges can still arise, especially in complex or large-scale applications."
      ],
      "metadata": {
        "id": "i_S9VzMXhTLC"
      }
    },
    {
      "cell_type": "markdown",
      "source": [
        "**24.**How do you raise an exception manually in Python?\n",
        "\n",
        " - In Python, you can raise an exception manually using the raise keyword followed by an exception class or instance. This is useful when you want to signal that an error or unexpected condition has occurred in your code.\n",
        "\n"
      ],
      "metadata": {
        "id": "tI-ahXj9hwG-"
      }
    },
    {
      "cell_type": "markdown",
      "source": [
        "**25.** Why is it important to use multithreading in certain applications?\n",
        "\n",
        " - Multithreading is important in certain applications because it allows a program to perform multiple tasks concurrently within the same process, improving efficiency, responsiveness, and resource utilization.\n",
        "\n"
      ],
      "metadata": {
        "id": "gtXMxS4Jic15"
      }
    },
    {
      "cell_type": "markdown",
      "source": [
        "#Practical Questions"
      ],
      "metadata": {
        "id": "LvXCdMpetpJU"
      }
    },
    {
      "cell_type": "markdown",
      "source": [
        "**1.**How can you open a file for writing in Python and write a string to it?"
      ],
      "metadata": {
        "id": "N2yqiRextt9T"
      }
    },
    {
      "cell_type": "code",
      "source": [
        "with open(\"output.txt\", \"w\") as file:\n",
        "  file.write(\"This is the string I want to write to the file.\")"
      ],
      "metadata": {
        "id": "PX7Ids-Lgx_1"
      },
      "execution_count": 46,
      "outputs": []
    },
    {
      "cell_type": "code",
      "source": [
        "file.close()"
      ],
      "metadata": {
        "id": "FvSHtSTjusS6"
      },
      "execution_count": 47,
      "outputs": []
    },
    {
      "cell_type": "markdown",
      "source": [
        "**2.**Write a Python program to read the contents of a file and print each line."
      ],
      "metadata": {
        "id": "dkHTCTL9vdp9"
      }
    },
    {
      "cell_type": "code",
      "source": [
        "with open(\"output.txt\", \"r\") as file:\n",
        "  for line in file:\n",
        "    print(line)"
      ],
      "metadata": {
        "colab": {
          "base_uri": "https://localhost:8080/"
        },
        "id": "kj-UgqS2vcOt",
        "outputId": "d21c4b9d-0a4e-41f3-9c63-4c033214c3d3"
      },
      "execution_count": 5,
      "outputs": [
        {
          "output_type": "stream",
          "name": "stdout",
          "text": [
            "This is the string I want to write to the file.\n"
          ]
        }
      ]
    },
    {
      "cell_type": "markdown",
      "source": [
        "**3.**How would you handle a case where the file doesn't exist while trying to open it for reading?"
      ],
      "metadata": {
        "id": "4n7gHAzcwe8s"
      }
    },
    {
      "cell_type": "code",
      "source": [
        "try:\n",
        "  with open(\"nonexistent_file.txt\", \"r\") as file:\n",
        "    for line in file:\n",
        "      print(line)\n",
        "except FileNotFoundError:\n",
        "  print(\"The file doesn't exist.\")"
      ],
      "metadata": {
        "colab": {
          "base_uri": "https://localhost:8080/"
        },
        "id": "LPKBI8_ZwJl3",
        "outputId": "9a9a26eb-2b62-4ab8-bd6d-742fd34ff087"
      },
      "execution_count": 6,
      "outputs": [
        {
          "output_type": "stream",
          "name": "stdout",
          "text": [
            "The file doesn't exist.\n"
          ]
        }
      ]
    },
    {
      "cell_type": "markdown",
      "source": [
        "**4.**Write a Python script that reads from one file and writes its content to another file."
      ],
      "metadata": {
        "id": "vUEVqqD5xiNR"
      }
    },
    {
      "cell_type": "code",
      "source": [
        "source_file = \"output.txt\"\n",
        "destination_file = \"destination.txt\"\n",
        "try:\n",
        "  with open(source_file, \"r\") as source, open(destination_file, \"w\") as destination:\n",
        "    for line in source:\n",
        "      destination.write(line)\n",
        "\n",
        "  print(f\"Contents of '{source_file}' have been copied to '{destination_file}'.\")\n",
        "\n",
        "except FileNotFoundError:\n",
        "    print(f\"Error: The file '{source_file}' does not exist.\")"
      ],
      "metadata": {
        "colab": {
          "base_uri": "https://localhost:8080/"
        },
        "id": "jiBBVEDnxfDW",
        "outputId": "02597452-5c2f-4428-9887-665f9231f3fd"
      },
      "execution_count": 13,
      "outputs": [
        {
          "output_type": "stream",
          "name": "stdout",
          "text": [
            "Contents of 'output.txt' have been copied to 'destination.txt'.\n"
          ]
        }
      ]
    },
    {
      "cell_type": "markdown",
      "source": [
        "**5.**How would you catch and handle division by zero error in Python?"
      ],
      "metadata": {
        "id": "1nm8MnoK9-g-"
      }
    },
    {
      "cell_type": "code",
      "source": [
        "try:\n",
        "  5/0\n",
        "except ZeroDivisionError as e:\n",
        "  print(\"This number cannot divisible by zero >> \", e)"
      ],
      "metadata": {
        "colab": {
          "base_uri": "https://localhost:8080/"
        },
        "id": "pSqpkGCk82T0",
        "outputId": "94c893f7-acdb-43ec-956c-eac259314b7c"
      },
      "execution_count": 15,
      "outputs": [
        {
          "output_type": "stream",
          "name": "stdout",
          "text": [
            "This number cannot divisible by zero >>  division by zero\n"
          ]
        }
      ]
    },
    {
      "cell_type": "markdown",
      "source": [
        "**6.**Write a Python program that logs an error message to a log file when a division by zero exception occurs."
      ],
      "metadata": {
        "id": "THeQcN7TlDiN"
      }
    },
    {
      "cell_type": "code",
      "source": [
        "import logging\n",
        "\n",
        "logging.basicConfig(\n",
        "    filename='error.log',\n",
        "    level=logging.ERROR,\n",
        "    format='%(asctime)s - %(levelname)s - %(message)s'\n",
        ")\n",
        "\n",
        "try:\n",
        "  10/0\n",
        "\n",
        "except ZeroDivisionError as e:\n",
        "    print(\"An error occurred: Division by zero.\")\n",
        "    logging.error(\"Division by zero attempted: %s\", e)\n"
      ],
      "metadata": {
        "colab": {
          "base_uri": "https://localhost:8080/"
        },
        "id": "nknjie9ulN9-",
        "outputId": "3a745ee7-04a6-40bc-8173-c2ee913f101f"
      },
      "execution_count": 68,
      "outputs": [
        {
          "output_type": "stream",
          "name": "stderr",
          "text": [
            "ERROR:root:Division by zero attempted: division by zero\n"
          ]
        },
        {
          "output_type": "stream",
          "name": "stdout",
          "text": [
            "An error occurred: Division by zero.\n"
          ]
        }
      ]
    },
    {
      "cell_type": "markdown",
      "source": [
        "**7.**How do you log information at different levels (INFO, ERROR, WARNING) in Python using the logging module?\n"
      ],
      "metadata": {
        "id": "zZKEMMqBmfd_"
      }
    },
    {
      "cell_type": "code",
      "source": [
        "import logging\n",
        "\n",
        "logging.basicConfig(\n",
        "    filename='app.log',\n",
        "    level=logging.DEBUG,\n",
        "    format='%(asctime)s - %(levelname)s - %(message)s'\n",
        ")\n",
        "\n",
        "logging.info(\"Program started successfully.\")\n",
        "logging.warning(\"This is a warning.\")\n",
        "logging.error(\"This is an error.\")"
      ],
      "metadata": {
        "colab": {
          "base_uri": "https://localhost:8080/"
        },
        "id": "hrz6GDmHpV8o",
        "outputId": "4efb5759-4ab6-4d90-df86-af8af5333b1d"
      },
      "execution_count": 75,
      "outputs": [
        {
          "output_type": "stream",
          "name": "stderr",
          "text": [
            "INFO:root:Program started successfully.\n",
            "2025-06-05 10:32:08,917 - INFO - Program started successfully.\n",
            "WARNING:root:This is a warning.\n",
            "2025-06-05 10:32:08,920 - WARNING - This is a warning.\n",
            "ERROR:root:This is an error.\n",
            "2025-06-05 10:32:08,921 - ERROR - This is an error.\n"
          ]
        }
      ]
    },
    {
      "cell_type": "markdown",
      "source": [
        "**8.**Write a program to handle a file opening error using exception handling."
      ],
      "metadata": {
        "id": "XUQvuBA2-l7h"
      }
    },
    {
      "cell_type": "code",
      "source": [
        "try:\n",
        "  with open(\"New_file.txt\", \"r\") as file:\n",
        "    for line in file:\n",
        "      print(line)\n",
        "except FileNotFoundError as e:\n",
        "  print(\"The file doesn't exist >> \", e)"
      ],
      "metadata": {
        "colab": {
          "base_uri": "https://localhost:8080/"
        },
        "id": "ljHcU_wE-dWK",
        "outputId": "1c77fa4f-947c-4689-d043-6c49ffb4076f"
      },
      "execution_count": 16,
      "outputs": [
        {
          "output_type": "stream",
          "name": "stdout",
          "text": [
            "The file doesn't exist >>  [Errno 2] No such file or directory: 'New_file.txt'\n"
          ]
        }
      ]
    },
    {
      "cell_type": "markdown",
      "source": [
        "**9.**How can you read a file line by line and store its content in a list in Python?"
      ],
      "metadata": {
        "id": "ZsKXjrFyAPyo"
      }
    },
    {
      "cell_type": "code",
      "source": [
        "with open(\"file_in_line.txt\", \"w\") as file:\n",
        "  file.write(\"This is my first line, \")\n",
        "  file.write(\"This is my second line, \")\n",
        "  file.write(\"This is my third line, \")\n",
        "  file.write(\"This is my forth line. \")\n",
        "\n",
        "file.close()"
      ],
      "metadata": {
        "id": "mQF5j3NhANRS"
      },
      "execution_count": 34,
      "outputs": []
    },
    {
      "cell_type": "code",
      "source": [
        "try:\n",
        "  with open(\"file_in_line.txt\", \"r\") as file:\n",
        "    lines = file.readlines()\n",
        "    lines = [line.strip() for line in lines]\n",
        "    for line in lines:\n",
        "      print(lines)\n",
        "except FileNotFoundError as e:\n",
        "  print(\"The file doesn't exist >> \", e)\n"
      ],
      "metadata": {
        "colab": {
          "base_uri": "https://localhost:8080/"
        },
        "id": "yBJ0B26TBI1X",
        "outputId": "a5d183b5-3807-47e6-e2e4-ae5739774806"
      },
      "execution_count": 35,
      "outputs": [
        {
          "output_type": "stream",
          "name": "stdout",
          "text": [
            "['This is my first line, This is my second line, This is my third line, This is my forth line.']\n"
          ]
        }
      ]
    },
    {
      "cell_type": "markdown",
      "source": [
        "**10.**How can you append data to an existing file in Python?"
      ],
      "metadata": {
        "id": "hZd3q55_DK8M"
      }
    },
    {
      "cell_type": "code",
      "source": [
        "try:\n",
        "  with open(\"output.txt\", \"a\") as file:\n",
        "    file.write(\"This is new line\")\n",
        "  print(\"Data is appended to the file.\")\n",
        "except FileNotFoundError as e:\n",
        "  print(\"The file doesn't exist >> \", e)"
      ],
      "metadata": {
        "colab": {
          "base_uri": "https://localhost:8080/"
        },
        "id": "mKhklK16BVx_",
        "outputId": "6758bea6-a15f-414d-faa3-1868cb7d600f"
      },
      "execution_count": 48,
      "outputs": [
        {
          "output_type": "stream",
          "name": "stdout",
          "text": [
            "Data is appended to the file.\n"
          ]
        }
      ]
    },
    {
      "cell_type": "code",
      "source": [
        "with open(\"output.txt\", \"r\") as file:\n",
        "  for line in file:\n",
        "    print(line)"
      ],
      "metadata": {
        "colab": {
          "base_uri": "https://localhost:8080/"
        },
        "id": "7cgrgxA0EOUN",
        "outputId": "f878ac8f-b9e8-4846-d90b-c1beab473822"
      },
      "execution_count": 49,
      "outputs": [
        {
          "output_type": "stream",
          "name": "stdout",
          "text": [
            "This is the string I want to write to the file.This is new line\n"
          ]
        }
      ]
    },
    {
      "cell_type": "markdown",
      "source": [
        "**11.**Write a Python program that uses a try-except block to handle an error when attempting to access a\n",
        "dictionary key that doesn't exist."
      ],
      "metadata": {
        "id": "WY9WEZzSFo4_"
      }
    },
    {
      "cell_type": "code",
      "source": [
        "try:\n",
        "  dic = {\"name\": \"John\", \"subject\": \"DA\"}\n",
        "  dic[\"age\"]\n",
        "\n",
        "except KeyError as e:\n",
        "  print(\"dictionary key doesn't exist >> \", e)"
      ],
      "metadata": {
        "colab": {
          "base_uri": "https://localhost:8080/"
        },
        "id": "CGvbZW6yGhYm",
        "outputId": "2cb29a37-4b00-4167-f6d0-84baa53712c1"
      },
      "execution_count": 52,
      "outputs": [
        {
          "output_type": "stream",
          "name": "stdout",
          "text": [
            "dictionary key doesn't exist >>  'age'\n"
          ]
        }
      ]
    },
    {
      "cell_type": "markdown",
      "source": [
        "**12.**Write a program that demonstrates using multiple except blocks to handle different types of exceptions."
      ],
      "metadata": {
        "id": "MWgHbnvEHVxA"
      }
    },
    {
      "cell_type": "code",
      "source": [
        "try:\n",
        "  10/0\n",
        "\n",
        "except ZeroDivisionError as e:\n",
        "  print(\"cannot divisible by zero >> \", e)\n",
        "\n",
        "except ValueError as e:\n",
        "  print(\"Please enter integer only >> \", e)\n",
        "\n",
        "except Exception as e:\n",
        "  print(\"An unexpected error occurred >> \", e)"
      ],
      "metadata": {
        "colab": {
          "base_uri": "https://localhost:8080/"
        },
        "id": "vrwqUt4OHR2T",
        "outputId": "08063936-f0cb-4695-fcd2-f88b7509e5d4"
      },
      "execution_count": 55,
      "outputs": [
        {
          "output_type": "stream",
          "name": "stdout",
          "text": [
            "cannot divisible by zero >>  division by zero\n"
          ]
        }
      ]
    },
    {
      "cell_type": "code",
      "source": [
        "try:\n",
        "  10/\"two\"\n",
        "\n",
        "except ZeroDivisionError as e:\n",
        "  print(\"cannot divisible by zero >> \", e)\n",
        "\n",
        "except ValueError as e:\n",
        "  print(\"Please enter integer only >> \", e)\n",
        "\n",
        "except Exception as e:\n",
        "  print(\"An unexpected error occurred >> \", e)"
      ],
      "metadata": {
        "colab": {
          "base_uri": "https://localhost:8080/"
        },
        "id": "PmgY264yJm9X",
        "outputId": "e4f2401d-bb70-410b-bfa4-b8ad0df67072"
      },
      "execution_count": 56,
      "outputs": [
        {
          "output_type": "stream",
          "name": "stdout",
          "text": [
            "An unexpected error occurred >>  unsupported operand type(s) for /: 'int' and 'str'\n"
          ]
        }
      ]
    },
    {
      "cell_type": "markdown",
      "source": [
        "**13.**How would you check if a file exists before attempting to read it in Python?"
      ],
      "metadata": {
        "id": "jYHpiZ74J8Vi"
      }
    },
    {
      "cell_type": "code",
      "source": [
        "import os\n",
        "\n",
        "filename1 = \"file_name\"\n",
        "\n",
        "if os.path.exists(filename1):\n",
        "  with open(filename1, r) as file:\n",
        "    for line in file:\n",
        "      print(line)\n",
        "\n",
        "else:\n",
        "  print(f\"Error: The file '{filename1}' does not exist.\")"
      ],
      "metadata": {
        "colab": {
          "base_uri": "https://localhost:8080/"
        },
        "id": "j1DdLonYJzrV",
        "outputId": "33a70f8e-5d1d-4b55-caa4-26094eeb648e"
      },
      "execution_count": 60,
      "outputs": [
        {
          "output_type": "stream",
          "name": "stdout",
          "text": [
            "Error: The file 'file_name' does not exist.\n"
          ]
        }
      ]
    },
    {
      "cell_type": "markdown",
      "source": [
        "**14.**Write a program that uses the logging module to log both informational and error messages."
      ],
      "metadata": {
        "id": "_ZoqlBCdpuWU"
      }
    },
    {
      "cell_type": "code",
      "source": [
        "logger.info(\"Application started successfully.\")\n",
        "try:\n",
        "    x = 10\n",
        "    y = 0\n",
        "    result = x / y\n",
        "except ZeroDivisionError as e:\n",
        "    logger.error(\"An error occurred: Division by zero.\")\n",
        "\n",
        "logger.info(\"Application finished.\")"
      ],
      "metadata": {
        "colab": {
          "base_uri": "https://localhost:8080/"
        },
        "id": "Was4_cq2p5aD",
        "outputId": "d0d0c0d4-683a-4862-cb4e-1146b494d3ea"
      },
      "execution_count": 76,
      "outputs": [
        {
          "output_type": "stream",
          "name": "stderr",
          "text": [
            "INFO:root:Application started successfully.\n",
            "2025-06-05 10:35:03,871 - INFO - Application started successfully.\n",
            "ERROR:root:An error occurred: Division by zero.\n",
            "2025-06-05 10:35:03,874 - ERROR - An error occurred: Division by zero.\n",
            "INFO:root:Application finished.\n",
            "2025-06-05 10:35:03,876 - INFO - Application finished.\n"
          ]
        }
      ]
    },
    {
      "cell_type": "markdown",
      "source": [
        "**15.**Write a Python program that prints the content of a file and handles the case when the file is empty."
      ],
      "metadata": {
        "id": "U5OIWx8MMBKW"
      }
    },
    {
      "cell_type": "code",
      "source": [
        "with open (\"content_of_file\", \"w\") as file:\n",
        "  pass"
      ],
      "metadata": {
        "id": "5VRp1pkBh2dc"
      },
      "execution_count": 63,
      "outputs": []
    },
    {
      "cell_type": "code",
      "source": [
        "try:\n",
        "  with open(\"content_of_file\", \"r\") as file:\n",
        "    print(file.read())\n",
        "\n",
        "    if not file.read():\n",
        "      print(\"The file is empty.\")\n",
        "\n",
        "    else:\n",
        "      print(\"The file is not empty.\")\n",
        "\n",
        "except IOError:\n",
        "  print(\"The file is empty.\")\n",
        "\n",
        "except FileNotFoundError:\n",
        "  print(\"The file doesn't exist.\")"
      ],
      "metadata": {
        "colab": {
          "base_uri": "https://localhost:8080/"
        },
        "id": "pc7ug__8Ldbn",
        "outputId": "13c12c5f-d179-4ce6-90a1-0a5c89f89432"
      },
      "execution_count": 66,
      "outputs": [
        {
          "output_type": "stream",
          "name": "stdout",
          "text": [
            "\n",
            "The file is empty.\n"
          ]
        }
      ]
    },
    {
      "cell_type": "markdown",
      "source": [
        "**16.**Demonstrate how to use memory profiling to check the memory usage of a small program.\n"
      ],
      "metadata": {
        "id": "xsbjiClNqU7a"
      }
    },
    {
      "cell_type": "code",
      "source": [
        "import os\n",
        "\n",
        "os.path.getsize(\"output.txt\")\n"
      ],
      "metadata": {
        "colab": {
          "base_uri": "https://localhost:8080/"
        },
        "id": "MKBwPol-qgjO",
        "outputId": "531d113d-c119-4b9a-87b7-82a41129ef45"
      },
      "execution_count": 77,
      "outputs": [
        {
          "output_type": "execute_result",
          "data": {
            "text/plain": [
              "63"
            ]
          },
          "metadata": {},
          "execution_count": 77
        }
      ]
    },
    {
      "cell_type": "markdown",
      "source": [
        "**17.** Write a Python program to create and write a list of numbers to a file, one number per line."
      ],
      "metadata": {
        "id": "Q5TVALF10XgU"
      }
    },
    {
      "cell_type": "code",
      "source": [
        "num = [10, 20, 30, 40, 50]\n",
        "\n",
        "with open(\"num.txt\", \"w\") as file:\n",
        "  for i in num:\n",
        "    file.write(str(i) + \"\\n\")\n",
        "\n",
        "print(\"num written to 'num.txt' successfully.\")"
      ],
      "metadata": {
        "colab": {
          "base_uri": "https://localhost:8080/"
        },
        "id": "6kUzf9WX0jru",
        "outputId": "fb620465-eae9-4946-99c6-3053b0f6a340"
      },
      "execution_count": 78,
      "outputs": [
        {
          "output_type": "stream",
          "name": "stdout",
          "text": [
            "num written to 'num.txt' successfully.\n"
          ]
        }
      ]
    },
    {
      "cell_type": "code",
      "source": [
        "with open (\"num.txt\", \"r\") as file:\n",
        "  print(file.read())"
      ],
      "metadata": {
        "colab": {
          "base_uri": "https://localhost:8080/"
        },
        "id": "hG1Yjxlz1plu",
        "outputId": "517d2dd8-07d8-4d5c-c266-305f738d4bb7"
      },
      "execution_count": 84,
      "outputs": [
        {
          "output_type": "stream",
          "name": "stdout",
          "text": [
            "10\n",
            "20\n",
            "30\n",
            "40\n",
            "50\n",
            "\n"
          ]
        }
      ]
    },
    {
      "cell_type": "markdown",
      "source": [
        "**18.**How would you implement a basic logging setup that logs to a file with rotation after 1MB?"
      ],
      "metadata": {
        "id": "3trMFobf2BEg"
      }
    },
    {
      "cell_type": "code",
      "source": [
        "import logging\n",
        "from logging.handlers import RotatingFileHandler\n",
        "\n",
        "# Set up the rotating log handler\n",
        "handler = RotatingFileHandler(\n",
        "    \"my_log.log\",        # Log file name\n",
        "    maxBytes=1024 * 1024,  # Rotate after 1MB\n",
        "    backupCount=2          # Keep 2 old files\n",
        ")\n",
        "\n",
        "# Set the format\n",
        "formatter = logging.Formatter('%(asctime)s - %(levelname)s - %(message)s')\n",
        "handler.setFormatter(formatter)\n",
        "\n",
        "# Create the logger\n",
        "logger = logging.getLogger()\n",
        "logger.setLevel(logging.INFO)\n",
        "logger.addHandler(handler)\n",
        "\n",
        "# Log fewer but larger messages to speed up rotation\n",
        "for i in range(100):\n",
        "    logger.info(\"This is a sample log message with some extra text to fill space quickly. \" * 5)\n"
      ],
      "metadata": {
        "colab": {
          "base_uri": "https://localhost:8080/"
        },
        "id": "tkEIY3GMOcbj",
        "outputId": "d770ca47-e263-4c3f-d09f-c17e75b1efa3"
      },
      "execution_count": 107,
      "outputs": [
        {
          "output_type": "stream",
          "name": "stderr",
          "text": [
            "INFO:root:This is a sample log message with some extra text to fill space quickly. This is a sample log message with some extra text to fill space quickly. This is a sample log message with some extra text to fill space quickly. This is a sample log message with some extra text to fill space quickly. This is a sample log message with some extra text to fill space quickly. \n",
            "2025-06-05 13:20:15,898 - INFO - This is a sample log message with some extra text to fill space quickly. This is a sample log message with some extra text to fill space quickly. This is a sample log message with some extra text to fill space quickly. This is a sample log message with some extra text to fill space quickly. This is a sample log message with some extra text to fill space quickly. \n",
            "INFO:root:This is a sample log message with some extra text to fill space quickly. This is a sample log message with some extra text to fill space quickly. This is a sample log message with some extra text to fill space quickly. This is a sample log message with some extra text to fill space quickly. This is a sample log message with some extra text to fill space quickly. \n",
            "2025-06-05 13:20:15,902 - INFO - This is a sample log message with some extra text to fill space quickly. This is a sample log message with some extra text to fill space quickly. This is a sample log message with some extra text to fill space quickly. This is a sample log message with some extra text to fill space quickly. This is a sample log message with some extra text to fill space quickly. \n",
            "INFO:root:This is a sample log message with some extra text to fill space quickly. This is a sample log message with some extra text to fill space quickly. This is a sample log message with some extra text to fill space quickly. This is a sample log message with some extra text to fill space quickly. This is a sample log message with some extra text to fill space quickly. \n",
            "2025-06-05 13:20:15,904 - INFO - This is a sample log message with some extra text to fill space quickly. This is a sample log message with some extra text to fill space quickly. This is a sample log message with some extra text to fill space quickly. This is a sample log message with some extra text to fill space quickly. This is a sample log message with some extra text to fill space quickly. \n",
            "INFO:root:This is a sample log message with some extra text to fill space quickly. This is a sample log message with some extra text to fill space quickly. This is a sample log message with some extra text to fill space quickly. This is a sample log message with some extra text to fill space quickly. This is a sample log message with some extra text to fill space quickly. \n",
            "2025-06-05 13:20:15,907 - INFO - This is a sample log message with some extra text to fill space quickly. This is a sample log message with some extra text to fill space quickly. This is a sample log message with some extra text to fill space quickly. This is a sample log message with some extra text to fill space quickly. This is a sample log message with some extra text to fill space quickly. \n",
            "INFO:root:This is a sample log message with some extra text to fill space quickly. This is a sample log message with some extra text to fill space quickly. This is a sample log message with some extra text to fill space quickly. This is a sample log message with some extra text to fill space quickly. This is a sample log message with some extra text to fill space quickly. \n",
            "2025-06-05 13:20:15,912 - INFO - This is a sample log message with some extra text to fill space quickly. This is a sample log message with some extra text to fill space quickly. This is a sample log message with some extra text to fill space quickly. This is a sample log message with some extra text to fill space quickly. This is a sample log message with some extra text to fill space quickly. \n",
            "INFO:root:This is a sample log message with some extra text to fill space quickly. This is a sample log message with some extra text to fill space quickly. This is a sample log message with some extra text to fill space quickly. This is a sample log message with some extra text to fill space quickly. This is a sample log message with some extra text to fill space quickly. \n",
            "2025-06-05 13:20:15,913 - INFO - This is a sample log message with some extra text to fill space quickly. This is a sample log message with some extra text to fill space quickly. This is a sample log message with some extra text to fill space quickly. This is a sample log message with some extra text to fill space quickly. This is a sample log message with some extra text to fill space quickly. \n",
            "INFO:root:This is a sample log message with some extra text to fill space quickly. This is a sample log message with some extra text to fill space quickly. This is a sample log message with some extra text to fill space quickly. This is a sample log message with some extra text to fill space quickly. This is a sample log message with some extra text to fill space quickly. \n",
            "2025-06-05 13:20:15,915 - INFO - This is a sample log message with some extra text to fill space quickly. This is a sample log message with some extra text to fill space quickly. This is a sample log message with some extra text to fill space quickly. This is a sample log message with some extra text to fill space quickly. This is a sample log message with some extra text to fill space quickly. \n",
            "INFO:root:This is a sample log message with some extra text to fill space quickly. This is a sample log message with some extra text to fill space quickly. This is a sample log message with some extra text to fill space quickly. This is a sample log message with some extra text to fill space quickly. This is a sample log message with some extra text to fill space quickly. \n",
            "2025-06-05 13:20:15,916 - INFO - This is a sample log message with some extra text to fill space quickly. This is a sample log message with some extra text to fill space quickly. This is a sample log message with some extra text to fill space quickly. This is a sample log message with some extra text to fill space quickly. This is a sample log message with some extra text to fill space quickly. \n",
            "INFO:root:This is a sample log message with some extra text to fill space quickly. This is a sample log message with some extra text to fill space quickly. This is a sample log message with some extra text to fill space quickly. This is a sample log message with some extra text to fill space quickly. This is a sample log message with some extra text to fill space quickly. \n",
            "2025-06-05 13:20:15,920 - INFO - This is a sample log message with some extra text to fill space quickly. This is a sample log message with some extra text to fill space quickly. This is a sample log message with some extra text to fill space quickly. This is a sample log message with some extra text to fill space quickly. This is a sample log message with some extra text to fill space quickly. \n",
            "INFO:root:This is a sample log message with some extra text to fill space quickly. This is a sample log message with some extra text to fill space quickly. This is a sample log message with some extra text to fill space quickly. This is a sample log message with some extra text to fill space quickly. This is a sample log message with some extra text to fill space quickly. \n",
            "2025-06-05 13:20:15,921 - INFO - This is a sample log message with some extra text to fill space quickly. This is a sample log message with some extra text to fill space quickly. This is a sample log message with some extra text to fill space quickly. This is a sample log message with some extra text to fill space quickly. This is a sample log message with some extra text to fill space quickly. \n",
            "INFO:root:This is a sample log message with some extra text to fill space quickly. This is a sample log message with some extra text to fill space quickly. This is a sample log message with some extra text to fill space quickly. This is a sample log message with some extra text to fill space quickly. This is a sample log message with some extra text to fill space quickly. \n",
            "2025-06-05 13:20:15,922 - INFO - This is a sample log message with some extra text to fill space quickly. This is a sample log message with some extra text to fill space quickly. This is a sample log message with some extra text to fill space quickly. This is a sample log message with some extra text to fill space quickly. This is a sample log message with some extra text to fill space quickly. \n",
            "INFO:root:This is a sample log message with some extra text to fill space quickly. This is a sample log message with some extra text to fill space quickly. This is a sample log message with some extra text to fill space quickly. This is a sample log message with some extra text to fill space quickly. This is a sample log message with some extra text to fill space quickly. \n",
            "2025-06-05 13:20:15,924 - INFO - This is a sample log message with some extra text to fill space quickly. This is a sample log message with some extra text to fill space quickly. This is a sample log message with some extra text to fill space quickly. This is a sample log message with some extra text to fill space quickly. This is a sample log message with some extra text to fill space quickly. \n",
            "INFO:root:This is a sample log message with some extra text to fill space quickly. This is a sample log message with some extra text to fill space quickly. This is a sample log message with some extra text to fill space quickly. This is a sample log message with some extra text to fill space quickly. This is a sample log message with some extra text to fill space quickly. \n",
            "2025-06-05 13:20:15,928 - INFO - This is a sample log message with some extra text to fill space quickly. This is a sample log message with some extra text to fill space quickly. This is a sample log message with some extra text to fill space quickly. This is a sample log message with some extra text to fill space quickly. This is a sample log message with some extra text to fill space quickly. \n",
            "INFO:root:This is a sample log message with some extra text to fill space quickly. This is a sample log message with some extra text to fill space quickly. This is a sample log message with some extra text to fill space quickly. This is a sample log message with some extra text to fill space quickly. This is a sample log message with some extra text to fill space quickly. \n",
            "2025-06-05 13:20:15,930 - INFO - This is a sample log message with some extra text to fill space quickly. This is a sample log message with some extra text to fill space quickly. This is a sample log message with some extra text to fill space quickly. This is a sample log message with some extra text to fill space quickly. This is a sample log message with some extra text to fill space quickly. \n",
            "INFO:root:This is a sample log message with some extra text to fill space quickly. This is a sample log message with some extra text to fill space quickly. This is a sample log message with some extra text to fill space quickly. This is a sample log message with some extra text to fill space quickly. This is a sample log message with some extra text to fill space quickly. \n",
            "2025-06-05 13:20:15,931 - INFO - This is a sample log message with some extra text to fill space quickly. This is a sample log message with some extra text to fill space quickly. This is a sample log message with some extra text to fill space quickly. This is a sample log message with some extra text to fill space quickly. This is a sample log message with some extra text to fill space quickly. \n",
            "INFO:root:This is a sample log message with some extra text to fill space quickly. This is a sample log message with some extra text to fill space quickly. This is a sample log message with some extra text to fill space quickly. This is a sample log message with some extra text to fill space quickly. This is a sample log message with some extra text to fill space quickly. \n",
            "2025-06-05 13:20:15,932 - INFO - This is a sample log message with some extra text to fill space quickly. This is a sample log message with some extra text to fill space quickly. This is a sample log message with some extra text to fill space quickly. This is a sample log message with some extra text to fill space quickly. This is a sample log message with some extra text to fill space quickly. \n",
            "INFO:root:This is a sample log message with some extra text to fill space quickly. This is a sample log message with some extra text to fill space quickly. This is a sample log message with some extra text to fill space quickly. This is a sample log message with some extra text to fill space quickly. This is a sample log message with some extra text to fill space quickly. \n",
            "2025-06-05 13:20:15,933 - INFO - This is a sample log message with some extra text to fill space quickly. This is a sample log message with some extra text to fill space quickly. This is a sample log message with some extra text to fill space quickly. This is a sample log message with some extra text to fill space quickly. This is a sample log message with some extra text to fill space quickly. \n",
            "INFO:root:This is a sample log message with some extra text to fill space quickly. This is a sample log message with some extra text to fill space quickly. This is a sample log message with some extra text to fill space quickly. This is a sample log message with some extra text to fill space quickly. This is a sample log message with some extra text to fill space quickly. \n",
            "2025-06-05 13:20:15,934 - INFO - This is a sample log message with some extra text to fill space quickly. This is a sample log message with some extra text to fill space quickly. This is a sample log message with some extra text to fill space quickly. This is a sample log message with some extra text to fill space quickly. This is a sample log message with some extra text to fill space quickly. \n",
            "INFO:root:This is a sample log message with some extra text to fill space quickly. This is a sample log message with some extra text to fill space quickly. This is a sample log message with some extra text to fill space quickly. This is a sample log message with some extra text to fill space quickly. This is a sample log message with some extra text to fill space quickly. \n",
            "2025-06-05 13:20:15,938 - INFO - This is a sample log message with some extra text to fill space quickly. This is a sample log message with some extra text to fill space quickly. This is a sample log message with some extra text to fill space quickly. This is a sample log message with some extra text to fill space quickly. This is a sample log message with some extra text to fill space quickly. \n",
            "INFO:root:This is a sample log message with some extra text to fill space quickly. This is a sample log message with some extra text to fill space quickly. This is a sample log message with some extra text to fill space quickly. This is a sample log message with some extra text to fill space quickly. This is a sample log message with some extra text to fill space quickly. \n",
            "2025-06-05 13:20:15,940 - INFO - This is a sample log message with some extra text to fill space quickly. This is a sample log message with some extra text to fill space quickly. This is a sample log message with some extra text to fill space quickly. This is a sample log message with some extra text to fill space quickly. This is a sample log message with some extra text to fill space quickly. \n",
            "INFO:root:This is a sample log message with some extra text to fill space quickly. This is a sample log message with some extra text to fill space quickly. This is a sample log message with some extra text to fill space quickly. This is a sample log message with some extra text to fill space quickly. This is a sample log message with some extra text to fill space quickly. \n",
            "2025-06-05 13:20:15,941 - INFO - This is a sample log message with some extra text to fill space quickly. This is a sample log message with some extra text to fill space quickly. This is a sample log message with some extra text to fill space quickly. This is a sample log message with some extra text to fill space quickly. This is a sample log message with some extra text to fill space quickly. \n",
            "INFO:root:This is a sample log message with some extra text to fill space quickly. This is a sample log message with some extra text to fill space quickly. This is a sample log message with some extra text to fill space quickly. This is a sample log message with some extra text to fill space quickly. This is a sample log message with some extra text to fill space quickly. \n",
            "2025-06-05 13:20:15,942 - INFO - This is a sample log message with some extra text to fill space quickly. This is a sample log message with some extra text to fill space quickly. This is a sample log message with some extra text to fill space quickly. This is a sample log message with some extra text to fill space quickly. This is a sample log message with some extra text to fill space quickly. \n",
            "INFO:root:This is a sample log message with some extra text to fill space quickly. This is a sample log message with some extra text to fill space quickly. This is a sample log message with some extra text to fill space quickly. This is a sample log message with some extra text to fill space quickly. This is a sample log message with some extra text to fill space quickly. \n",
            "2025-06-05 13:20:15,944 - INFO - This is a sample log message with some extra text to fill space quickly. This is a sample log message with some extra text to fill space quickly. This is a sample log message with some extra text to fill space quickly. This is a sample log message with some extra text to fill space quickly. This is a sample log message with some extra text to fill space quickly. \n",
            "INFO:root:This is a sample log message with some extra text to fill space quickly. This is a sample log message with some extra text to fill space quickly. This is a sample log message with some extra text to fill space quickly. This is a sample log message with some extra text to fill space quickly. This is a sample log message with some extra text to fill space quickly. \n",
            "2025-06-05 13:20:15,945 - INFO - This is a sample log message with some extra text to fill space quickly. This is a sample log message with some extra text to fill space quickly. This is a sample log message with some extra text to fill space quickly. This is a sample log message with some extra text to fill space quickly. This is a sample log message with some extra text to fill space quickly. \n",
            "INFO:root:This is a sample log message with some extra text to fill space quickly. This is a sample log message with some extra text to fill space quickly. This is a sample log message with some extra text to fill space quickly. This is a sample log message with some extra text to fill space quickly. This is a sample log message with some extra text to fill space quickly. \n",
            "2025-06-05 13:20:15,947 - INFO - This is a sample log message with some extra text to fill space quickly. This is a sample log message with some extra text to fill space quickly. This is a sample log message with some extra text to fill space quickly. This is a sample log message with some extra text to fill space quickly. This is a sample log message with some extra text to fill space quickly. \n",
            "INFO:root:This is a sample log message with some extra text to fill space quickly. This is a sample log message with some extra text to fill space quickly. This is a sample log message with some extra text to fill space quickly. This is a sample log message with some extra text to fill space quickly. This is a sample log message with some extra text to fill space quickly. \n",
            "2025-06-05 13:20:15,949 - INFO - This is a sample log message with some extra text to fill space quickly. This is a sample log message with some extra text to fill space quickly. This is a sample log message with some extra text to fill space quickly. This is a sample log message with some extra text to fill space quickly. This is a sample log message with some extra text to fill space quickly. \n",
            "INFO:root:This is a sample log message with some extra text to fill space quickly. This is a sample log message with some extra text to fill space quickly. This is a sample log message with some extra text to fill space quickly. This is a sample log message with some extra text to fill space quickly. This is a sample log message with some extra text to fill space quickly. \n",
            "2025-06-05 13:20:15,950 - INFO - This is a sample log message with some extra text to fill space quickly. This is a sample log message with some extra text to fill space quickly. This is a sample log message with some extra text to fill space quickly. This is a sample log message with some extra text to fill space quickly. This is a sample log message with some extra text to fill space quickly. \n",
            "INFO:root:This is a sample log message with some extra text to fill space quickly. This is a sample log message with some extra text to fill space quickly. This is a sample log message with some extra text to fill space quickly. This is a sample log message with some extra text to fill space quickly. This is a sample log message with some extra text to fill space quickly. \n",
            "2025-06-05 13:20:15,952 - INFO - This is a sample log message with some extra text to fill space quickly. This is a sample log message with some extra text to fill space quickly. This is a sample log message with some extra text to fill space quickly. This is a sample log message with some extra text to fill space quickly. This is a sample log message with some extra text to fill space quickly. \n",
            "INFO:root:This is a sample log message with some extra text to fill space quickly. This is a sample log message with some extra text to fill space quickly. This is a sample log message with some extra text to fill space quickly. This is a sample log message with some extra text to fill space quickly. This is a sample log message with some extra text to fill space quickly. \n",
            "2025-06-05 13:20:15,953 - INFO - This is a sample log message with some extra text to fill space quickly. This is a sample log message with some extra text to fill space quickly. This is a sample log message with some extra text to fill space quickly. This is a sample log message with some extra text to fill space quickly. This is a sample log message with some extra text to fill space quickly. \n",
            "INFO:root:This is a sample log message with some extra text to fill space quickly. This is a sample log message with some extra text to fill space quickly. This is a sample log message with some extra text to fill space quickly. This is a sample log message with some extra text to fill space quickly. This is a sample log message with some extra text to fill space quickly. \n",
            "2025-06-05 13:20:15,956 - INFO - This is a sample log message with some extra text to fill space quickly. This is a sample log message with some extra text to fill space quickly. This is a sample log message with some extra text to fill space quickly. This is a sample log message with some extra text to fill space quickly. This is a sample log message with some extra text to fill space quickly. \n",
            "INFO:root:This is a sample log message with some extra text to fill space quickly. This is a sample log message with some extra text to fill space quickly. This is a sample log message with some extra text to fill space quickly. This is a sample log message with some extra text to fill space quickly. This is a sample log message with some extra text to fill space quickly. \n",
            "2025-06-05 13:20:15,957 - INFO - This is a sample log message with some extra text to fill space quickly. This is a sample log message with some extra text to fill space quickly. This is a sample log message with some extra text to fill space quickly. This is a sample log message with some extra text to fill space quickly. This is a sample log message with some extra text to fill space quickly. \n",
            "INFO:root:This is a sample log message with some extra text to fill space quickly. This is a sample log message with some extra text to fill space quickly. This is a sample log message with some extra text to fill space quickly. This is a sample log message with some extra text to fill space quickly. This is a sample log message with some extra text to fill space quickly. \n",
            "2025-06-05 13:20:15,959 - INFO - This is a sample log message with some extra text to fill space quickly. This is a sample log message with some extra text to fill space quickly. This is a sample log message with some extra text to fill space quickly. This is a sample log message with some extra text to fill space quickly. This is a sample log message with some extra text to fill space quickly. \n",
            "INFO:root:This is a sample log message with some extra text to fill space quickly. This is a sample log message with some extra text to fill space quickly. This is a sample log message with some extra text to fill space quickly. This is a sample log message with some extra text to fill space quickly. This is a sample log message with some extra text to fill space quickly. \n",
            "2025-06-05 13:20:15,963 - INFO - This is a sample log message with some extra text to fill space quickly. This is a sample log message with some extra text to fill space quickly. This is a sample log message with some extra text to fill space quickly. This is a sample log message with some extra text to fill space quickly. This is a sample log message with some extra text to fill space quickly. \n",
            "INFO:root:This is a sample log message with some extra text to fill space quickly. This is a sample log message with some extra text to fill space quickly. This is a sample log message with some extra text to fill space quickly. This is a sample log message with some extra text to fill space quickly. This is a sample log message with some extra text to fill space quickly. \n",
            "2025-06-05 13:20:15,965 - INFO - This is a sample log message with some extra text to fill space quickly. This is a sample log message with some extra text to fill space quickly. This is a sample log message with some extra text to fill space quickly. This is a sample log message with some extra text to fill space quickly. This is a sample log message with some extra text to fill space quickly. \n",
            "INFO:root:This is a sample log message with some extra text to fill space quickly. This is a sample log message with some extra text to fill space quickly. This is a sample log message with some extra text to fill space quickly. This is a sample log message with some extra text to fill space quickly. This is a sample log message with some extra text to fill space quickly. \n",
            "2025-06-05 13:20:15,966 - INFO - This is a sample log message with some extra text to fill space quickly. This is a sample log message with some extra text to fill space quickly. This is a sample log message with some extra text to fill space quickly. This is a sample log message with some extra text to fill space quickly. This is a sample log message with some extra text to fill space quickly. \n",
            "INFO:root:This is a sample log message with some extra text to fill space quickly. This is a sample log message with some extra text to fill space quickly. This is a sample log message with some extra text to fill space quickly. This is a sample log message with some extra text to fill space quickly. This is a sample log message with some extra text to fill space quickly. \n",
            "2025-06-05 13:20:15,968 - INFO - This is a sample log message with some extra text to fill space quickly. This is a sample log message with some extra text to fill space quickly. This is a sample log message with some extra text to fill space quickly. This is a sample log message with some extra text to fill space quickly. This is a sample log message with some extra text to fill space quickly. \n",
            "INFO:root:This is a sample log message with some extra text to fill space quickly. This is a sample log message with some extra text to fill space quickly. This is a sample log message with some extra text to fill space quickly. This is a sample log message with some extra text to fill space quickly. This is a sample log message with some extra text to fill space quickly. \n",
            "2025-06-05 13:20:15,970 - INFO - This is a sample log message with some extra text to fill space quickly. This is a sample log message with some extra text to fill space quickly. This is a sample log message with some extra text to fill space quickly. This is a sample log message with some extra text to fill space quickly. This is a sample log message with some extra text to fill space quickly. \n",
            "INFO:root:This is a sample log message with some extra text to fill space quickly. This is a sample log message with some extra text to fill space quickly. This is a sample log message with some extra text to fill space quickly. This is a sample log message with some extra text to fill space quickly. This is a sample log message with some extra text to fill space quickly. \n",
            "2025-06-05 13:20:15,972 - INFO - This is a sample log message with some extra text to fill space quickly. This is a sample log message with some extra text to fill space quickly. This is a sample log message with some extra text to fill space quickly. This is a sample log message with some extra text to fill space quickly. This is a sample log message with some extra text to fill space quickly. \n",
            "INFO:root:This is a sample log message with some extra text to fill space quickly. This is a sample log message with some extra text to fill space quickly. This is a sample log message with some extra text to fill space quickly. This is a sample log message with some extra text to fill space quickly. This is a sample log message with some extra text to fill space quickly. \n",
            "2025-06-05 13:20:15,973 - INFO - This is a sample log message with some extra text to fill space quickly. This is a sample log message with some extra text to fill space quickly. This is a sample log message with some extra text to fill space quickly. This is a sample log message with some extra text to fill space quickly. This is a sample log message with some extra text to fill space quickly. \n",
            "INFO:root:This is a sample log message with some extra text to fill space quickly. This is a sample log message with some extra text to fill space quickly. This is a sample log message with some extra text to fill space quickly. This is a sample log message with some extra text to fill space quickly. This is a sample log message with some extra text to fill space quickly. \n",
            "2025-06-05 13:20:15,975 - INFO - This is a sample log message with some extra text to fill space quickly. This is a sample log message with some extra text to fill space quickly. This is a sample log message with some extra text to fill space quickly. This is a sample log message with some extra text to fill space quickly. This is a sample log message with some extra text to fill space quickly. \n",
            "INFO:root:This is a sample log message with some extra text to fill space quickly. This is a sample log message with some extra text to fill space quickly. This is a sample log message with some extra text to fill space quickly. This is a sample log message with some extra text to fill space quickly. This is a sample log message with some extra text to fill space quickly. \n",
            "2025-06-05 13:20:15,976 - INFO - This is a sample log message with some extra text to fill space quickly. This is a sample log message with some extra text to fill space quickly. This is a sample log message with some extra text to fill space quickly. This is a sample log message with some extra text to fill space quickly. This is a sample log message with some extra text to fill space quickly. \n",
            "INFO:root:This is a sample log message with some extra text to fill space quickly. This is a sample log message with some extra text to fill space quickly. This is a sample log message with some extra text to fill space quickly. This is a sample log message with some extra text to fill space quickly. This is a sample log message with some extra text to fill space quickly. \n",
            "2025-06-05 13:20:15,978 - INFO - This is a sample log message with some extra text to fill space quickly. This is a sample log message with some extra text to fill space quickly. This is a sample log message with some extra text to fill space quickly. This is a sample log message with some extra text to fill space quickly. This is a sample log message with some extra text to fill space quickly. \n",
            "INFO:root:This is a sample log message with some extra text to fill space quickly. This is a sample log message with some extra text to fill space quickly. This is a sample log message with some extra text to fill space quickly. This is a sample log message with some extra text to fill space quickly. This is a sample log message with some extra text to fill space quickly. \n",
            "2025-06-05 13:20:15,980 - INFO - This is a sample log message with some extra text to fill space quickly. This is a sample log message with some extra text to fill space quickly. This is a sample log message with some extra text to fill space quickly. This is a sample log message with some extra text to fill space quickly. This is a sample log message with some extra text to fill space quickly. \n",
            "INFO:root:This is a sample log message with some extra text to fill space quickly. This is a sample log message with some extra text to fill space quickly. This is a sample log message with some extra text to fill space quickly. This is a sample log message with some extra text to fill space quickly. This is a sample log message with some extra text to fill space quickly. \n",
            "2025-06-05 13:20:15,981 - INFO - This is a sample log message with some extra text to fill space quickly. This is a sample log message with some extra text to fill space quickly. This is a sample log message with some extra text to fill space quickly. This is a sample log message with some extra text to fill space quickly. This is a sample log message with some extra text to fill space quickly. \n",
            "INFO:root:This is a sample log message with some extra text to fill space quickly. This is a sample log message with some extra text to fill space quickly. This is a sample log message with some extra text to fill space quickly. This is a sample log message with some extra text to fill space quickly. This is a sample log message with some extra text to fill space quickly. \n",
            "2025-06-05 13:20:15,983 - INFO - This is a sample log message with some extra text to fill space quickly. This is a sample log message with some extra text to fill space quickly. This is a sample log message with some extra text to fill space quickly. This is a sample log message with some extra text to fill space quickly. This is a sample log message with some extra text to fill space quickly. \n",
            "INFO:root:This is a sample log message with some extra text to fill space quickly. This is a sample log message with some extra text to fill space quickly. This is a sample log message with some extra text to fill space quickly. This is a sample log message with some extra text to fill space quickly. This is a sample log message with some extra text to fill space quickly. \n",
            "2025-06-05 13:20:15,987 - INFO - This is a sample log message with some extra text to fill space quickly. This is a sample log message with some extra text to fill space quickly. This is a sample log message with some extra text to fill space quickly. This is a sample log message with some extra text to fill space quickly. This is a sample log message with some extra text to fill space quickly. \n",
            "INFO:root:This is a sample log message with some extra text to fill space quickly. This is a sample log message with some extra text to fill space quickly. This is a sample log message with some extra text to fill space quickly. This is a sample log message with some extra text to fill space quickly. This is a sample log message with some extra text to fill space quickly. \n",
            "2025-06-05 13:20:15,988 - INFO - This is a sample log message with some extra text to fill space quickly. This is a sample log message with some extra text to fill space quickly. This is a sample log message with some extra text to fill space quickly. This is a sample log message with some extra text to fill space quickly. This is a sample log message with some extra text to fill space quickly. \n",
            "INFO:root:This is a sample log message with some extra text to fill space quickly. This is a sample log message with some extra text to fill space quickly. This is a sample log message with some extra text to fill space quickly. This is a sample log message with some extra text to fill space quickly. This is a sample log message with some extra text to fill space quickly. \n",
            "2025-06-05 13:20:15,990 - INFO - This is a sample log message with some extra text to fill space quickly. This is a sample log message with some extra text to fill space quickly. This is a sample log message with some extra text to fill space quickly. This is a sample log message with some extra text to fill space quickly. This is a sample log message with some extra text to fill space quickly. \n",
            "INFO:root:This is a sample log message with some extra text to fill space quickly. This is a sample log message with some extra text to fill space quickly. This is a sample log message with some extra text to fill space quickly. This is a sample log message with some extra text to fill space quickly. This is a sample log message with some extra text to fill space quickly. \n",
            "2025-06-05 13:20:15,991 - INFO - This is a sample log message with some extra text to fill space quickly. This is a sample log message with some extra text to fill space quickly. This is a sample log message with some extra text to fill space quickly. This is a sample log message with some extra text to fill space quickly. This is a sample log message with some extra text to fill space quickly. \n",
            "INFO:root:This is a sample log message with some extra text to fill space quickly. This is a sample log message with some extra text to fill space quickly. This is a sample log message with some extra text to fill space quickly. This is a sample log message with some extra text to fill space quickly. This is a sample log message with some extra text to fill space quickly. \n",
            "2025-06-05 13:20:15,993 - INFO - This is a sample log message with some extra text to fill space quickly. This is a sample log message with some extra text to fill space quickly. This is a sample log message with some extra text to fill space quickly. This is a sample log message with some extra text to fill space quickly. This is a sample log message with some extra text to fill space quickly. \n",
            "INFO:root:This is a sample log message with some extra text to fill space quickly. This is a sample log message with some extra text to fill space quickly. This is a sample log message with some extra text to fill space quickly. This is a sample log message with some extra text to fill space quickly. This is a sample log message with some extra text to fill space quickly. \n",
            "2025-06-05 13:20:15,995 - INFO - This is a sample log message with some extra text to fill space quickly. This is a sample log message with some extra text to fill space quickly. This is a sample log message with some extra text to fill space quickly. This is a sample log message with some extra text to fill space quickly. This is a sample log message with some extra text to fill space quickly. \n",
            "INFO:root:This is a sample log message with some extra text to fill space quickly. This is a sample log message with some extra text to fill space quickly. This is a sample log message with some extra text to fill space quickly. This is a sample log message with some extra text to fill space quickly. This is a sample log message with some extra text to fill space quickly. \n",
            "2025-06-05 13:20:15,996 - INFO - This is a sample log message with some extra text to fill space quickly. This is a sample log message with some extra text to fill space quickly. This is a sample log message with some extra text to fill space quickly. This is a sample log message with some extra text to fill space quickly. This is a sample log message with some extra text to fill space quickly. \n",
            "INFO:root:This is a sample log message with some extra text to fill space quickly. This is a sample log message with some extra text to fill space quickly. This is a sample log message with some extra text to fill space quickly. This is a sample log message with some extra text to fill space quickly. This is a sample log message with some extra text to fill space quickly. \n",
            "2025-06-05 13:20:15,998 - INFO - This is a sample log message with some extra text to fill space quickly. This is a sample log message with some extra text to fill space quickly. This is a sample log message with some extra text to fill space quickly. This is a sample log message with some extra text to fill space quickly. This is a sample log message with some extra text to fill space quickly. \n",
            "INFO:root:This is a sample log message with some extra text to fill space quickly. This is a sample log message with some extra text to fill space quickly. This is a sample log message with some extra text to fill space quickly. This is a sample log message with some extra text to fill space quickly. This is a sample log message with some extra text to fill space quickly. \n",
            "2025-06-05 13:20:16,000 - INFO - This is a sample log message with some extra text to fill space quickly. This is a sample log message with some extra text to fill space quickly. This is a sample log message with some extra text to fill space quickly. This is a sample log message with some extra text to fill space quickly. This is a sample log message with some extra text to fill space quickly. \n",
            "INFO:root:This is a sample log message with some extra text to fill space quickly. This is a sample log message with some extra text to fill space quickly. This is a sample log message with some extra text to fill space quickly. This is a sample log message with some extra text to fill space quickly. This is a sample log message with some extra text to fill space quickly. \n",
            "2025-06-05 13:20:16,002 - INFO - This is a sample log message with some extra text to fill space quickly. This is a sample log message with some extra text to fill space quickly. This is a sample log message with some extra text to fill space quickly. This is a sample log message with some extra text to fill space quickly. This is a sample log message with some extra text to fill space quickly. \n",
            "INFO:root:This is a sample log message with some extra text to fill space quickly. This is a sample log message with some extra text to fill space quickly. This is a sample log message with some extra text to fill space quickly. This is a sample log message with some extra text to fill space quickly. This is a sample log message with some extra text to fill space quickly. \n",
            "2025-06-05 13:20:16,004 - INFO - This is a sample log message with some extra text to fill space quickly. This is a sample log message with some extra text to fill space quickly. This is a sample log message with some extra text to fill space quickly. This is a sample log message with some extra text to fill space quickly. This is a sample log message with some extra text to fill space quickly. \n",
            "INFO:root:This is a sample log message with some extra text to fill space quickly. This is a sample log message with some extra text to fill space quickly. This is a sample log message with some extra text to fill space quickly. This is a sample log message with some extra text to fill space quickly. This is a sample log message with some extra text to fill space quickly. \n",
            "2025-06-05 13:20:16,005 - INFO - This is a sample log message with some extra text to fill space quickly. This is a sample log message with some extra text to fill space quickly. This is a sample log message with some extra text to fill space quickly. This is a sample log message with some extra text to fill space quickly. This is a sample log message with some extra text to fill space quickly. \n",
            "INFO:root:This is a sample log message with some extra text to fill space quickly. This is a sample log message with some extra text to fill space quickly. This is a sample log message with some extra text to fill space quickly. This is a sample log message with some extra text to fill space quickly. This is a sample log message with some extra text to fill space quickly. \n",
            "2025-06-05 13:20:16,008 - INFO - This is a sample log message with some extra text to fill space quickly. This is a sample log message with some extra text to fill space quickly. This is a sample log message with some extra text to fill space quickly. This is a sample log message with some extra text to fill space quickly. This is a sample log message with some extra text to fill space quickly. \n",
            "INFO:root:This is a sample log message with some extra text to fill space quickly. This is a sample log message with some extra text to fill space quickly. This is a sample log message with some extra text to fill space quickly. This is a sample log message with some extra text to fill space quickly. This is a sample log message with some extra text to fill space quickly. \n",
            "2025-06-05 13:20:16,009 - INFO - This is a sample log message with some extra text to fill space quickly. This is a sample log message with some extra text to fill space quickly. This is a sample log message with some extra text to fill space quickly. This is a sample log message with some extra text to fill space quickly. This is a sample log message with some extra text to fill space quickly. \n",
            "INFO:root:This is a sample log message with some extra text to fill space quickly. This is a sample log message with some extra text to fill space quickly. This is a sample log message with some extra text to fill space quickly. This is a sample log message with some extra text to fill space quickly. This is a sample log message with some extra text to fill space quickly. \n",
            "2025-06-05 13:20:16,011 - INFO - This is a sample log message with some extra text to fill space quickly. This is a sample log message with some extra text to fill space quickly. This is a sample log message with some extra text to fill space quickly. This is a sample log message with some extra text to fill space quickly. This is a sample log message with some extra text to fill space quickly. \n",
            "INFO:root:This is a sample log message with some extra text to fill space quickly. This is a sample log message with some extra text to fill space quickly. This is a sample log message with some extra text to fill space quickly. This is a sample log message with some extra text to fill space quickly. This is a sample log message with some extra text to fill space quickly. \n",
            "2025-06-05 13:20:16,014 - INFO - This is a sample log message with some extra text to fill space quickly. This is a sample log message with some extra text to fill space quickly. This is a sample log message with some extra text to fill space quickly. This is a sample log message with some extra text to fill space quickly. This is a sample log message with some extra text to fill space quickly. \n",
            "INFO:root:This is a sample log message with some extra text to fill space quickly. This is a sample log message with some extra text to fill space quickly. This is a sample log message with some extra text to fill space quickly. This is a sample log message with some extra text to fill space quickly. This is a sample log message with some extra text to fill space quickly. \n",
            "2025-06-05 13:20:16,016 - INFO - This is a sample log message with some extra text to fill space quickly. This is a sample log message with some extra text to fill space quickly. This is a sample log message with some extra text to fill space quickly. This is a sample log message with some extra text to fill space quickly. This is a sample log message with some extra text to fill space quickly. \n",
            "INFO:root:This is a sample log message with some extra text to fill space quickly. This is a sample log message with some extra text to fill space quickly. This is a sample log message with some extra text to fill space quickly. This is a sample log message with some extra text to fill space quickly. This is a sample log message with some extra text to fill space quickly. \n",
            "2025-06-05 13:20:16,018 - INFO - This is a sample log message with some extra text to fill space quickly. This is a sample log message with some extra text to fill space quickly. This is a sample log message with some extra text to fill space quickly. This is a sample log message with some extra text to fill space quickly. This is a sample log message with some extra text to fill space quickly. \n",
            "INFO:root:This is a sample log message with some extra text to fill space quickly. This is a sample log message with some extra text to fill space quickly. This is a sample log message with some extra text to fill space quickly. This is a sample log message with some extra text to fill space quickly. This is a sample log message with some extra text to fill space quickly. \n",
            "2025-06-05 13:20:16,021 - INFO - This is a sample log message with some extra text to fill space quickly. This is a sample log message with some extra text to fill space quickly. This is a sample log message with some extra text to fill space quickly. This is a sample log message with some extra text to fill space quickly. This is a sample log message with some extra text to fill space quickly. \n",
            "INFO:root:This is a sample log message with some extra text to fill space quickly. This is a sample log message with some extra text to fill space quickly. This is a sample log message with some extra text to fill space quickly. This is a sample log message with some extra text to fill space quickly. This is a sample log message with some extra text to fill space quickly. \n",
            "2025-06-05 13:20:16,023 - INFO - This is a sample log message with some extra text to fill space quickly. This is a sample log message with some extra text to fill space quickly. This is a sample log message with some extra text to fill space quickly. This is a sample log message with some extra text to fill space quickly. This is a sample log message with some extra text to fill space quickly. \n",
            "INFO:root:This is a sample log message with some extra text to fill space quickly. This is a sample log message with some extra text to fill space quickly. This is a sample log message with some extra text to fill space quickly. This is a sample log message with some extra text to fill space quickly. This is a sample log message with some extra text to fill space quickly. \n",
            "2025-06-05 13:20:16,025 - INFO - This is a sample log message with some extra text to fill space quickly. This is a sample log message with some extra text to fill space quickly. This is a sample log message with some extra text to fill space quickly. This is a sample log message with some extra text to fill space quickly. This is a sample log message with some extra text to fill space quickly. \n",
            "INFO:root:This is a sample log message with some extra text to fill space quickly. This is a sample log message with some extra text to fill space quickly. This is a sample log message with some extra text to fill space quickly. This is a sample log message with some extra text to fill space quickly. This is a sample log message with some extra text to fill space quickly. \n",
            "2025-06-05 13:20:16,026 - INFO - This is a sample log message with some extra text to fill space quickly. This is a sample log message with some extra text to fill space quickly. This is a sample log message with some extra text to fill space quickly. This is a sample log message with some extra text to fill space quickly. This is a sample log message with some extra text to fill space quickly. \n",
            "INFO:root:This is a sample log message with some extra text to fill space quickly. This is a sample log message with some extra text to fill space quickly. This is a sample log message with some extra text to fill space quickly. This is a sample log message with some extra text to fill space quickly. This is a sample log message with some extra text to fill space quickly. \n",
            "2025-06-05 13:20:16,028 - INFO - This is a sample log message with some extra text to fill space quickly. This is a sample log message with some extra text to fill space quickly. This is a sample log message with some extra text to fill space quickly. This is a sample log message with some extra text to fill space quickly. This is a sample log message with some extra text to fill space quickly. \n",
            "INFO:root:This is a sample log message with some extra text to fill space quickly. This is a sample log message with some extra text to fill space quickly. This is a sample log message with some extra text to fill space quickly. This is a sample log message with some extra text to fill space quickly. This is a sample log message with some extra text to fill space quickly. \n",
            "2025-06-05 13:20:16,029 - INFO - This is a sample log message with some extra text to fill space quickly. This is a sample log message with some extra text to fill space quickly. This is a sample log message with some extra text to fill space quickly. This is a sample log message with some extra text to fill space quickly. This is a sample log message with some extra text to fill space quickly. \n",
            "INFO:root:This is a sample log message with some extra text to fill space quickly. This is a sample log message with some extra text to fill space quickly. This is a sample log message with some extra text to fill space quickly. This is a sample log message with some extra text to fill space quickly. This is a sample log message with some extra text to fill space quickly. \n",
            "2025-06-05 13:20:16,031 - INFO - This is a sample log message with some extra text to fill space quickly. This is a sample log message with some extra text to fill space quickly. This is a sample log message with some extra text to fill space quickly. This is a sample log message with some extra text to fill space quickly. This is a sample log message with some extra text to fill space quickly. \n",
            "INFO:root:This is a sample log message with some extra text to fill space quickly. This is a sample log message with some extra text to fill space quickly. This is a sample log message with some extra text to fill space quickly. This is a sample log message with some extra text to fill space quickly. This is a sample log message with some extra text to fill space quickly. \n",
            "2025-06-05 13:20:16,032 - INFO - This is a sample log message with some extra text to fill space quickly. This is a sample log message with some extra text to fill space quickly. This is a sample log message with some extra text to fill space quickly. This is a sample log message with some extra text to fill space quickly. This is a sample log message with some extra text to fill space quickly. \n",
            "INFO:root:This is a sample log message with some extra text to fill space quickly. This is a sample log message with some extra text to fill space quickly. This is a sample log message with some extra text to fill space quickly. This is a sample log message with some extra text to fill space quickly. This is a sample log message with some extra text to fill space quickly. \n",
            "2025-06-05 13:20:16,034 - INFO - This is a sample log message with some extra text to fill space quickly. This is a sample log message with some extra text to fill space quickly. This is a sample log message with some extra text to fill space quickly. This is a sample log message with some extra text to fill space quickly. This is a sample log message with some extra text to fill space quickly. \n",
            "INFO:root:This is a sample log message with some extra text to fill space quickly. This is a sample log message with some extra text to fill space quickly. This is a sample log message with some extra text to fill space quickly. This is a sample log message with some extra text to fill space quickly. This is a sample log message with some extra text to fill space quickly. \n",
            "2025-06-05 13:20:16,035 - INFO - This is a sample log message with some extra text to fill space quickly. This is a sample log message with some extra text to fill space quickly. This is a sample log message with some extra text to fill space quickly. This is a sample log message with some extra text to fill space quickly. This is a sample log message with some extra text to fill space quickly. \n",
            "INFO:root:This is a sample log message with some extra text to fill space quickly. This is a sample log message with some extra text to fill space quickly. This is a sample log message with some extra text to fill space quickly. This is a sample log message with some extra text to fill space quickly. This is a sample log message with some extra text to fill space quickly. \n",
            "2025-06-05 13:20:16,036 - INFO - This is a sample log message with some extra text to fill space quickly. This is a sample log message with some extra text to fill space quickly. This is a sample log message with some extra text to fill space quickly. This is a sample log message with some extra text to fill space quickly. This is a sample log message with some extra text to fill space quickly. \n",
            "INFO:root:This is a sample log message with some extra text to fill space quickly. This is a sample log message with some extra text to fill space quickly. This is a sample log message with some extra text to fill space quickly. This is a sample log message with some extra text to fill space quickly. This is a sample log message with some extra text to fill space quickly. \n",
            "2025-06-05 13:20:16,037 - INFO - This is a sample log message with some extra text to fill space quickly. This is a sample log message with some extra text to fill space quickly. This is a sample log message with some extra text to fill space quickly. This is a sample log message with some extra text to fill space quickly. This is a sample log message with some extra text to fill space quickly. \n",
            "INFO:root:This is a sample log message with some extra text to fill space quickly. This is a sample log message with some extra text to fill space quickly. This is a sample log message with some extra text to fill space quickly. This is a sample log message with some extra text to fill space quickly. This is a sample log message with some extra text to fill space quickly. \n",
            "2025-06-05 13:20:16,038 - INFO - This is a sample log message with some extra text to fill space quickly. This is a sample log message with some extra text to fill space quickly. This is a sample log message with some extra text to fill space quickly. This is a sample log message with some extra text to fill space quickly. This is a sample log message with some extra text to fill space quickly. \n",
            "INFO:root:This is a sample log message with some extra text to fill space quickly. This is a sample log message with some extra text to fill space quickly. This is a sample log message with some extra text to fill space quickly. This is a sample log message with some extra text to fill space quickly. This is a sample log message with some extra text to fill space quickly. \n",
            "2025-06-05 13:20:16,040 - INFO - This is a sample log message with some extra text to fill space quickly. This is a sample log message with some extra text to fill space quickly. This is a sample log message with some extra text to fill space quickly. This is a sample log message with some extra text to fill space quickly. This is a sample log message with some extra text to fill space quickly. \n",
            "INFO:root:This is a sample log message with some extra text to fill space quickly. This is a sample log message with some extra text to fill space quickly. This is a sample log message with some extra text to fill space quickly. This is a sample log message with some extra text to fill space quickly. This is a sample log message with some extra text to fill space quickly. \n",
            "2025-06-05 13:20:16,041 - INFO - This is a sample log message with some extra text to fill space quickly. This is a sample log message with some extra text to fill space quickly. This is a sample log message with some extra text to fill space quickly. This is a sample log message with some extra text to fill space quickly. This is a sample log message with some extra text to fill space quickly. \n",
            "INFO:root:This is a sample log message with some extra text to fill space quickly. This is a sample log message with some extra text to fill space quickly. This is a sample log message with some extra text to fill space quickly. This is a sample log message with some extra text to fill space quickly. This is a sample log message with some extra text to fill space quickly. \n",
            "2025-06-05 13:20:16,042 - INFO - This is a sample log message with some extra text to fill space quickly. This is a sample log message with some extra text to fill space quickly. This is a sample log message with some extra text to fill space quickly. This is a sample log message with some extra text to fill space quickly. This is a sample log message with some extra text to fill space quickly. \n",
            "INFO:root:This is a sample log message with some extra text to fill space quickly. This is a sample log message with some extra text to fill space quickly. This is a sample log message with some extra text to fill space quickly. This is a sample log message with some extra text to fill space quickly. This is a sample log message with some extra text to fill space quickly. \n",
            "2025-06-05 13:20:16,043 - INFO - This is a sample log message with some extra text to fill space quickly. This is a sample log message with some extra text to fill space quickly. This is a sample log message with some extra text to fill space quickly. This is a sample log message with some extra text to fill space quickly. This is a sample log message with some extra text to fill space quickly. \n",
            "INFO:root:This is a sample log message with some extra text to fill space quickly. This is a sample log message with some extra text to fill space quickly. This is a sample log message with some extra text to fill space quickly. This is a sample log message with some extra text to fill space quickly. This is a sample log message with some extra text to fill space quickly. \n",
            "2025-06-05 13:20:16,044 - INFO - This is a sample log message with some extra text to fill space quickly. This is a sample log message with some extra text to fill space quickly. This is a sample log message with some extra text to fill space quickly. This is a sample log message with some extra text to fill space quickly. This is a sample log message with some extra text to fill space quickly. \n",
            "INFO:root:This is a sample log message with some extra text to fill space quickly. This is a sample log message with some extra text to fill space quickly. This is a sample log message with some extra text to fill space quickly. This is a sample log message with some extra text to fill space quickly. This is a sample log message with some extra text to fill space quickly. \n",
            "2025-06-05 13:20:16,045 - INFO - This is a sample log message with some extra text to fill space quickly. This is a sample log message with some extra text to fill space quickly. This is a sample log message with some extra text to fill space quickly. This is a sample log message with some extra text to fill space quickly. This is a sample log message with some extra text to fill space quickly. \n",
            "INFO:root:This is a sample log message with some extra text to fill space quickly. This is a sample log message with some extra text to fill space quickly. This is a sample log message with some extra text to fill space quickly. This is a sample log message with some extra text to fill space quickly. This is a sample log message with some extra text to fill space quickly. \n",
            "2025-06-05 13:20:16,047 - INFO - This is a sample log message with some extra text to fill space quickly. This is a sample log message with some extra text to fill space quickly. This is a sample log message with some extra text to fill space quickly. This is a sample log message with some extra text to fill space quickly. This is a sample log message with some extra text to fill space quickly. \n",
            "INFO:root:This is a sample log message with some extra text to fill space quickly. This is a sample log message with some extra text to fill space quickly. This is a sample log message with some extra text to fill space quickly. This is a sample log message with some extra text to fill space quickly. This is a sample log message with some extra text to fill space quickly. \n",
            "2025-06-05 13:20:16,048 - INFO - This is a sample log message with some extra text to fill space quickly. This is a sample log message with some extra text to fill space quickly. This is a sample log message with some extra text to fill space quickly. This is a sample log message with some extra text to fill space quickly. This is a sample log message with some extra text to fill space quickly. \n",
            "INFO:root:This is a sample log message with some extra text to fill space quickly. This is a sample log message with some extra text to fill space quickly. This is a sample log message with some extra text to fill space quickly. This is a sample log message with some extra text to fill space quickly. This is a sample log message with some extra text to fill space quickly. \n",
            "2025-06-05 13:20:16,049 - INFO - This is a sample log message with some extra text to fill space quickly. This is a sample log message with some extra text to fill space quickly. This is a sample log message with some extra text to fill space quickly. This is a sample log message with some extra text to fill space quickly. This is a sample log message with some extra text to fill space quickly. \n",
            "INFO:root:This is a sample log message with some extra text to fill space quickly. This is a sample log message with some extra text to fill space quickly. This is a sample log message with some extra text to fill space quickly. This is a sample log message with some extra text to fill space quickly. This is a sample log message with some extra text to fill space quickly. \n",
            "2025-06-05 13:20:16,050 - INFO - This is a sample log message with some extra text to fill space quickly. This is a sample log message with some extra text to fill space quickly. This is a sample log message with some extra text to fill space quickly. This is a sample log message with some extra text to fill space quickly. This is a sample log message with some extra text to fill space quickly. \n",
            "INFO:root:This is a sample log message with some extra text to fill space quickly. This is a sample log message with some extra text to fill space quickly. This is a sample log message with some extra text to fill space quickly. This is a sample log message with some extra text to fill space quickly. This is a sample log message with some extra text to fill space quickly. \n",
            "2025-06-05 13:20:16,052 - INFO - This is a sample log message with some extra text to fill space quickly. This is a sample log message with some extra text to fill space quickly. This is a sample log message with some extra text to fill space quickly. This is a sample log message with some extra text to fill space quickly. This is a sample log message with some extra text to fill space quickly. \n",
            "INFO:root:This is a sample log message with some extra text to fill space quickly. This is a sample log message with some extra text to fill space quickly. This is a sample log message with some extra text to fill space quickly. This is a sample log message with some extra text to fill space quickly. This is a sample log message with some extra text to fill space quickly. \n",
            "2025-06-05 13:20:16,053 - INFO - This is a sample log message with some extra text to fill space quickly. This is a sample log message with some extra text to fill space quickly. This is a sample log message with some extra text to fill space quickly. This is a sample log message with some extra text to fill space quickly. This is a sample log message with some extra text to fill space quickly. \n",
            "INFO:root:This is a sample log message with some extra text to fill space quickly. This is a sample log message with some extra text to fill space quickly. This is a sample log message with some extra text to fill space quickly. This is a sample log message with some extra text to fill space quickly. This is a sample log message with some extra text to fill space quickly. \n",
            "2025-06-05 13:20:16,054 - INFO - This is a sample log message with some extra text to fill space quickly. This is a sample log message with some extra text to fill space quickly. This is a sample log message with some extra text to fill space quickly. This is a sample log message with some extra text to fill space quickly. This is a sample log message with some extra text to fill space quickly. \n",
            "INFO:root:This is a sample log message with some extra text to fill space quickly. This is a sample log message with some extra text to fill space quickly. This is a sample log message with some extra text to fill space quickly. This is a sample log message with some extra text to fill space quickly. This is a sample log message with some extra text to fill space quickly. \n",
            "2025-06-05 13:20:16,056 - INFO - This is a sample log message with some extra text to fill space quickly. This is a sample log message with some extra text to fill space quickly. This is a sample log message with some extra text to fill space quickly. This is a sample log message with some extra text to fill space quickly. This is a sample log message with some extra text to fill space quickly. \n",
            "INFO:root:This is a sample log message with some extra text to fill space quickly. This is a sample log message with some extra text to fill space quickly. This is a sample log message with some extra text to fill space quickly. This is a sample log message with some extra text to fill space quickly. This is a sample log message with some extra text to fill space quickly. \n",
            "2025-06-05 13:20:16,057 - INFO - This is a sample log message with some extra text to fill space quickly. This is a sample log message with some extra text to fill space quickly. This is a sample log message with some extra text to fill space quickly. This is a sample log message with some extra text to fill space quickly. This is a sample log message with some extra text to fill space quickly. \n",
            "INFO:root:This is a sample log message with some extra text to fill space quickly. This is a sample log message with some extra text to fill space quickly. This is a sample log message with some extra text to fill space quickly. This is a sample log message with some extra text to fill space quickly. This is a sample log message with some extra text to fill space quickly. \n",
            "2025-06-05 13:20:16,059 - INFO - This is a sample log message with some extra text to fill space quickly. This is a sample log message with some extra text to fill space quickly. This is a sample log message with some extra text to fill space quickly. This is a sample log message with some extra text to fill space quickly. This is a sample log message with some extra text to fill space quickly. \n",
            "INFO:root:This is a sample log message with some extra text to fill space quickly. This is a sample log message with some extra text to fill space quickly. This is a sample log message with some extra text to fill space quickly. This is a sample log message with some extra text to fill space quickly. This is a sample log message with some extra text to fill space quickly. \n",
            "2025-06-05 13:20:16,060 - INFO - This is a sample log message with some extra text to fill space quickly. This is a sample log message with some extra text to fill space quickly. This is a sample log message with some extra text to fill space quickly. This is a sample log message with some extra text to fill space quickly. This is a sample log message with some extra text to fill space quickly. \n",
            "INFO:root:This is a sample log message with some extra text to fill space quickly. This is a sample log message with some extra text to fill space quickly. This is a sample log message with some extra text to fill space quickly. This is a sample log message with some extra text to fill space quickly. This is a sample log message with some extra text to fill space quickly. \n",
            "2025-06-05 13:20:16,061 - INFO - This is a sample log message with some extra text to fill space quickly. This is a sample log message with some extra text to fill space quickly. This is a sample log message with some extra text to fill space quickly. This is a sample log message with some extra text to fill space quickly. This is a sample log message with some extra text to fill space quickly. \n",
            "INFO:root:This is a sample log message with some extra text to fill space quickly. This is a sample log message with some extra text to fill space quickly. This is a sample log message with some extra text to fill space quickly. This is a sample log message with some extra text to fill space quickly. This is a sample log message with some extra text to fill space quickly. \n",
            "2025-06-05 13:20:16,062 - INFO - This is a sample log message with some extra text to fill space quickly. This is a sample log message with some extra text to fill space quickly. This is a sample log message with some extra text to fill space quickly. This is a sample log message with some extra text to fill space quickly. This is a sample log message with some extra text to fill space quickly. \n",
            "INFO:root:This is a sample log message with some extra text to fill space quickly. This is a sample log message with some extra text to fill space quickly. This is a sample log message with some extra text to fill space quickly. This is a sample log message with some extra text to fill space quickly. This is a sample log message with some extra text to fill space quickly. \n",
            "2025-06-05 13:20:16,064 - INFO - This is a sample log message with some extra text to fill space quickly. This is a sample log message with some extra text to fill space quickly. This is a sample log message with some extra text to fill space quickly. This is a sample log message with some extra text to fill space quickly. This is a sample log message with some extra text to fill space quickly. \n",
            "INFO:root:This is a sample log message with some extra text to fill space quickly. This is a sample log message with some extra text to fill space quickly. This is a sample log message with some extra text to fill space quickly. This is a sample log message with some extra text to fill space quickly. This is a sample log message with some extra text to fill space quickly. \n",
            "2025-06-05 13:20:16,065 - INFO - This is a sample log message with some extra text to fill space quickly. This is a sample log message with some extra text to fill space quickly. This is a sample log message with some extra text to fill space quickly. This is a sample log message with some extra text to fill space quickly. This is a sample log message with some extra text to fill space quickly. \n",
            "INFO:root:This is a sample log message with some extra text to fill space quickly. This is a sample log message with some extra text to fill space quickly. This is a sample log message with some extra text to fill space quickly. This is a sample log message with some extra text to fill space quickly. This is a sample log message with some extra text to fill space quickly. \n",
            "2025-06-05 13:20:16,066 - INFO - This is a sample log message with some extra text to fill space quickly. This is a sample log message with some extra text to fill space quickly. This is a sample log message with some extra text to fill space quickly. This is a sample log message with some extra text to fill space quickly. This is a sample log message with some extra text to fill space quickly. \n",
            "INFO:root:This is a sample log message with some extra text to fill space quickly. This is a sample log message with some extra text to fill space quickly. This is a sample log message with some extra text to fill space quickly. This is a sample log message with some extra text to fill space quickly. This is a sample log message with some extra text to fill space quickly. \n",
            "2025-06-05 13:20:16,067 - INFO - This is a sample log message with some extra text to fill space quickly. This is a sample log message with some extra text to fill space quickly. This is a sample log message with some extra text to fill space quickly. This is a sample log message with some extra text to fill space quickly. This is a sample log message with some extra text to fill space quickly. \n",
            "INFO:root:This is a sample log message with some extra text to fill space quickly. This is a sample log message with some extra text to fill space quickly. This is a sample log message with some extra text to fill space quickly. This is a sample log message with some extra text to fill space quickly. This is a sample log message with some extra text to fill space quickly. \n",
            "2025-06-05 13:20:16,069 - INFO - This is a sample log message with some extra text to fill space quickly. This is a sample log message with some extra text to fill space quickly. This is a sample log message with some extra text to fill space quickly. This is a sample log message with some extra text to fill space quickly. This is a sample log message with some extra text to fill space quickly. \n"
          ]
        }
      ]
    },
    {
      "cell_type": "markdown",
      "source": [
        "**19.**Write a program that handles both IndexError and KeyError using a try-except block."
      ],
      "metadata": {
        "id": "-b2z_cG35Ewc"
      }
    },
    {
      "cell_type": "code",
      "source": [
        "my_list = [1, 2, 3]\n",
        "my_dict = {\"a\": 10, \"b\": 20}\n",
        "\n",
        "try:\n",
        "    print(\"List item:\", my_list[5])\n",
        "\n",
        "    print(\"Dict item:\", my_dict[\"c\"])\n",
        "\n",
        "except IndexError:\n",
        "    print(\"IndexError: You tried to access a list index that does not exist.\")\n",
        "\n",
        "except KeyError:\n",
        "    print(\"KeyError: You tried to access a key that is not in the dictionary.\")\n"
      ],
      "metadata": {
        "colab": {
          "base_uri": "https://localhost:8080/"
        },
        "id": "qUMF4Qmp5Q5s",
        "outputId": "736a822a-04fc-4c83-da88-463be9372ca1"
      },
      "execution_count": 86,
      "outputs": [
        {
          "output_type": "stream",
          "name": "stdout",
          "text": [
            "IndexError: You tried to access a list index that does not exist.\n"
          ]
        }
      ]
    },
    {
      "cell_type": "code",
      "source": [
        "try:\n",
        "    print(my_list[5])\n",
        "except IndexError:\n",
        "    print(\"Handled IndexError.\")\n",
        "\n",
        "try:\n",
        "    print(my_dict[\"c\"])\n",
        "except KeyError:\n",
        "    print(\"Handled KeyError.\")\n"
      ],
      "metadata": {
        "colab": {
          "base_uri": "https://localhost:8080/"
        },
        "id": "oIpHaoDjDcOj",
        "outputId": "c16a4d51-a2c2-4681-a15f-d2534411bcbc"
      },
      "execution_count": 87,
      "outputs": [
        {
          "output_type": "stream",
          "name": "stdout",
          "text": [
            "Handled IndexError.\n",
            "Handled KeyError.\n"
          ]
        }
      ]
    },
    {
      "cell_type": "markdown",
      "source": [
        "**20.**How would you open a file and read its contents using a context manager in Python?"
      ],
      "metadata": {
        "id": "5HsdQRBfDgkI"
      }
    },
    {
      "cell_type": "code",
      "source": [
        "# Open the file and read its contents using a context manager\n",
        "with open(\"output.txt\", \"r\") as file:\n",
        "    contents = file.read()\n",
        "    print(contents)"
      ],
      "metadata": {
        "colab": {
          "base_uri": "https://localhost:8080/"
        },
        "id": "bgTlqoATDp2e",
        "outputId": "fa1c7b5c-c898-48c2-ab03-f9945a13395a"
      },
      "execution_count": 89,
      "outputs": [
        {
          "output_type": "stream",
          "name": "stdout",
          "text": [
            "This is the string I want to write to the file.This is new line\n"
          ]
        }
      ]
    },
    {
      "cell_type": "markdown",
      "source": [
        "**21.**Write a Python program that reads a file and prints the number of occurrences of a specific word."
      ],
      "metadata": {
        "id": "EYu4eIpfD6Wv"
      }
    },
    {
      "cell_type": "code",
      "source": [
        "with open(\"sample.txt\", \"w\") as file:\n",
        "  file.write(\"\"\"Python is fun.\n",
        "I love Python\n",
        "python is easy to learn.\n",
        "\"\"\")\n",
        "\n",
        "file.close()"
      ],
      "metadata": {
        "id": "58WmEh5LEBy1"
      },
      "execution_count": 103,
      "outputs": []
    },
    {
      "cell_type": "code",
      "source": [
        "file_name = \"sample.txt\"\n",
        "search_word = \"python\"\n",
        "\n",
        "\n",
        "count = 0\n",
        "\n",
        "try:\n",
        "  with open(\"sample.txt\", \"r\") as file:\n",
        "    for line in file:\n",
        "            words = line.lower().split()\n",
        "            count += words.count(search_word.lower())\n",
        "\n",
        "    print(f\"The word '{search_word}' occurred {count} times in '{file_name}'.\")\n",
        "\n",
        "except FileNotFoundError:\n",
        "  print(\"The file doesn't exist.\")"
      ],
      "metadata": {
        "colab": {
          "base_uri": "https://localhost:8080/"
        },
        "id": "kubQ163hFRvW",
        "outputId": "2d8d533d-4c7a-4311-d41c-74250018cdbe"
      },
      "execution_count": 105,
      "outputs": [
        {
          "output_type": "stream",
          "name": "stdout",
          "text": [
            "The word 'python' occurred 3 times in 'sample.txt'.\n"
          ]
        }
      ]
    },
    {
      "cell_type": "markdown",
      "source": [
        "**22.**How can you check if a file is empty before attempting to read its contents?"
      ],
      "metadata": {
        "id": "SMXtt4FkjQaw"
      }
    },
    {
      "cell_type": "code",
      "source": [
        "import os\n",
        "\n",
        "filename = \"content_of_file\"\n",
        "\n",
        "if os.path.exists(filename):\n",
        "  if os.path.getsize(filename) == 0:\n",
        "    print(\"The file filename is empty\")\n",
        "\n",
        "  else:\n",
        "    with open(filename, \"r\") as file:\n",
        "      print(file.read())\n",
        "\n",
        "else:\n",
        "  print(\"Error the file name does not exist.\")"
      ],
      "metadata": {
        "colab": {
          "base_uri": "https://localhost:8080/"
        },
        "id": "nclUhBA2hWTx",
        "outputId": "87b444e0-cdbf-43b0-c8b9-4d3d57afcaa9"
      },
      "execution_count": 67,
      "outputs": [
        {
          "output_type": "stream",
          "name": "stdout",
          "text": [
            "The file filename is empty\n"
          ]
        }
      ]
    },
    {
      "cell_type": "markdown",
      "source": [
        "**23.**Write a Python program that writes to a log file when an error occurs during file handling."
      ],
      "metadata": {
        "id": "-dBZPd5mk4L_"
      }
    },
    {
      "cell_type": "code",
      "source": [
        "import logging\n",
        "\n",
        "logging.basicConfig(filename = \"program.log\", level = logging.DEBUG)\n",
        "try:\n",
        "    open(\"example.txt\", \"r\")\n",
        "    f.read()\n",
        "except FileNotFoundError as e:\n",
        "    logging.error(f\"My file was not found {e}\")"
      ],
      "metadata": {
        "colab": {
          "base_uri": "https://localhost:8080/"
        },
        "id": "vh3oLbQok183",
        "outputId": "74fec8e9-3618-4d64-e5d9-d5e6b063f67c"
      },
      "execution_count": 106,
      "outputs": [
        {
          "output_type": "stream",
          "name": "stderr",
          "text": [
            "ERROR:root:My file was not found [Errno 2] No such file or directory: 'example.txt'\n",
            "2025-06-05 13:12:54,778 - ERROR - My file was not found [Errno 2] No such file or directory: 'example.txt'\n"
          ]
        }
      ]
    }
  ]
}